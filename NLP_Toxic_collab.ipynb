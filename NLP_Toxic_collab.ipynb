{
  "nbformat": 4,
  "nbformat_minor": 0,
  "metadata": {
    "kernelspec": {
      "display_name": "Python 3",
      "language": "python",
      "name": "python3"
    },
    "language_info": {
      "codemirror_mode": {
        "name": "ipython",
        "version": 3
      },
      "file_extension": ".py",
      "mimetype": "text/x-python",
      "name": "python",
      "nbconvert_exporter": "python",
      "pygments_lexer": "ipython3",
      "version": "3.7.6"
    },
    "colab": {
      "name": "NLP_Toxic_collab.ipynb",
      "provenance": [],
      "collapsed_sections": [],
      "include_colab_link": true
    },
    "accelerator": "GPU"
  },
  "cells": [
    {
      "cell_type": "markdown",
      "metadata": {
        "id": "view-in-github",
        "colab_type": "text"
      },
      "source": [
        "<a href=\"https://colab.research.google.com/github/PavanYenigi/MyPracticeModels/blob/main/NLP_Toxic_collab.ipynb\" target=\"_parent\"><img src=\"https://colab.research.google.com/assets/colab-badge.svg\" alt=\"Open In Colab\"/></a>"
      ]
    },
    {
      "cell_type": "code",
      "metadata": {
        "id": "SYZEqNgv0pB_"
      },
      "source": [
        "#Impoting the necessary library\n",
        "import pandas as pd\n",
        "import numpy as np\n",
        "import matplotlib.pyplot as plt\n",
        "from sklearn.model_selection import train_test_split"
      ],
      "execution_count": 2,
      "outputs": []
    },
    {
      "cell_type": "code",
      "metadata": {
        "id": "g4Hy6Tg50pCV"
      },
      "source": [
        "data=pd.read_csv('nlp_toxic_train.csv', engine='python')"
      ],
      "execution_count": 6,
      "outputs": []
    },
    {
      "cell_type": "code",
      "metadata": {
        "colab": {
          "base_uri": "https://localhost:8080/",
          "height": 106
        },
        "id": "EKviW7HT0pCa",
        "outputId": "dd5cb01f-521c-4591-e85a-ab99c35ca126"
      },
      "source": [
        "data.head(2)"
      ],
      "execution_count": 7,
      "outputs": [
        {
          "output_type": "execute_result",
          "data": {
            "text/html": [
              "<div>\n",
              "<style scoped>\n",
              "    .dataframe tbody tr th:only-of-type {\n",
              "        vertical-align: middle;\n",
              "    }\n",
              "\n",
              "    .dataframe tbody tr th {\n",
              "        vertical-align: top;\n",
              "    }\n",
              "\n",
              "    .dataframe thead th {\n",
              "        text-align: right;\n",
              "    }\n",
              "</style>\n",
              "<table border=\"1\" class=\"dataframe\">\n",
              "  <thead>\n",
              "    <tr style=\"text-align: right;\">\n",
              "      <th></th>\n",
              "      <th>id</th>\n",
              "      <th>comment_text</th>\n",
              "      <th>toxic</th>\n",
              "      <th>severe_toxic</th>\n",
              "      <th>obscene</th>\n",
              "      <th>threat</th>\n",
              "      <th>insult</th>\n",
              "      <th>identity_hate</th>\n",
              "    </tr>\n",
              "  </thead>\n",
              "  <tbody>\n",
              "    <tr>\n",
              "      <th>0</th>\n",
              "      <td>0000997932d777bf</td>\n",
              "      <td>Explanation\\nWhy the edits made under my usern...</td>\n",
              "      <td>0</td>\n",
              "      <td>0</td>\n",
              "      <td>0</td>\n",
              "      <td>0</td>\n",
              "      <td>0</td>\n",
              "      <td>0</td>\n",
              "    </tr>\n",
              "    <tr>\n",
              "      <th>1</th>\n",
              "      <td>000103f0d9cfb60f</td>\n",
              "      <td>D'aww! He matches this background colour I'm s...</td>\n",
              "      <td>0</td>\n",
              "      <td>0</td>\n",
              "      <td>0</td>\n",
              "      <td>0</td>\n",
              "      <td>0</td>\n",
              "      <td>0</td>\n",
              "    </tr>\n",
              "  </tbody>\n",
              "</table>\n",
              "</div>"
            ],
            "text/plain": [
              "                 id  ... identity_hate\n",
              "0  0000997932d777bf  ...             0\n",
              "1  000103f0d9cfb60f  ...             0\n",
              "\n",
              "[2 rows x 8 columns]"
            ]
          },
          "metadata": {
            "tags": []
          },
          "execution_count": 7
        }
      ]
    },
    {
      "cell_type": "code",
      "metadata": {
        "colab": {
          "base_uri": "https://localhost:8080/"
        },
        "id": "9e_8kP8x0pCe",
        "outputId": "0204ea30-e310-43af-cf4b-246ea9a213d2"
      },
      "source": [
        "### Checking nulls in the datasets\n",
        "\n",
        "print(\"Nulls in training dataset\",data.isnull().sum())"
      ],
      "execution_count": 8,
      "outputs": [
        {
          "output_type": "stream",
          "text": [
            "Nulls in training dataset id               0\n",
            "comment_text     0\n",
            "toxic            0\n",
            "severe_toxic     0\n",
            "obscene          0\n",
            "threat           0\n",
            "insult           0\n",
            "identity_hate    0\n",
            "dtype: int64\n"
          ],
          "name": "stdout"
        }
      ]
    },
    {
      "cell_type": "code",
      "metadata": {
        "colab": {
          "base_uri": "https://localhost:8080/"
        },
        "id": "7Aq47H5r0pCh",
        "outputId": "d637cf22-92d8-4cae-dca2-39732ede66b7"
      },
      "source": [
        "data.count()"
      ],
      "execution_count": 9,
      "outputs": [
        {
          "output_type": "execute_result",
          "data": {
            "text/plain": [
              "id               159571\n",
              "comment_text     159571\n",
              "toxic            159571\n",
              "severe_toxic     159571\n",
              "obscene          159571\n",
              "threat           159571\n",
              "insult           159571\n",
              "identity_hate    159571\n",
              "dtype: int64"
            ]
          },
          "metadata": {
            "tags": []
          },
          "execution_count": 9
        }
      ]
    },
    {
      "cell_type": "code",
      "metadata": {
        "colab": {
          "base_uri": "https://localhost:8080/"
        },
        "id": "5ty1BiDC0pCm",
        "outputId": "ed33fd52-0865-41c4-af27-a79cc28fbb9e"
      },
      "source": [
        "data.shape"
      ],
      "execution_count": 10,
      "outputs": [
        {
          "output_type": "execute_result",
          "data": {
            "text/plain": [
              "(159571, 8)"
            ]
          },
          "metadata": {
            "tags": []
          },
          "execution_count": 10
        }
      ]
    },
    {
      "cell_type": "code",
      "metadata": {
        "colab": {
          "base_uri": "https://localhost:8080/",
          "height": 284
        },
        "id": "gSYzYZiy0pCs",
        "outputId": "17827b0d-e193-4ed0-910b-b2f11b45d9ec"
      },
      "source": [
        "# Describing the  train data\n",
        "\n",
        "data.describe()"
      ],
      "execution_count": 11,
      "outputs": [
        {
          "output_type": "execute_result",
          "data": {
            "text/html": [
              "<div>\n",
              "<style scoped>\n",
              "    .dataframe tbody tr th:only-of-type {\n",
              "        vertical-align: middle;\n",
              "    }\n",
              "\n",
              "    .dataframe tbody tr th {\n",
              "        vertical-align: top;\n",
              "    }\n",
              "\n",
              "    .dataframe thead th {\n",
              "        text-align: right;\n",
              "    }\n",
              "</style>\n",
              "<table border=\"1\" class=\"dataframe\">\n",
              "  <thead>\n",
              "    <tr style=\"text-align: right;\">\n",
              "      <th></th>\n",
              "      <th>toxic</th>\n",
              "      <th>severe_toxic</th>\n",
              "      <th>obscene</th>\n",
              "      <th>threat</th>\n",
              "      <th>insult</th>\n",
              "      <th>identity_hate</th>\n",
              "    </tr>\n",
              "  </thead>\n",
              "  <tbody>\n",
              "    <tr>\n",
              "      <th>count</th>\n",
              "      <td>159571.000000</td>\n",
              "      <td>159571.000000</td>\n",
              "      <td>159571.000000</td>\n",
              "      <td>159571.000000</td>\n",
              "      <td>159571.000000</td>\n",
              "      <td>159571.000000</td>\n",
              "    </tr>\n",
              "    <tr>\n",
              "      <th>mean</th>\n",
              "      <td>0.095844</td>\n",
              "      <td>0.009996</td>\n",
              "      <td>0.052948</td>\n",
              "      <td>0.002996</td>\n",
              "      <td>0.049364</td>\n",
              "      <td>0.008805</td>\n",
              "    </tr>\n",
              "    <tr>\n",
              "      <th>std</th>\n",
              "      <td>0.294379</td>\n",
              "      <td>0.099477</td>\n",
              "      <td>0.223931</td>\n",
              "      <td>0.054650</td>\n",
              "      <td>0.216627</td>\n",
              "      <td>0.093420</td>\n",
              "    </tr>\n",
              "    <tr>\n",
              "      <th>min</th>\n",
              "      <td>0.000000</td>\n",
              "      <td>0.000000</td>\n",
              "      <td>0.000000</td>\n",
              "      <td>0.000000</td>\n",
              "      <td>0.000000</td>\n",
              "      <td>0.000000</td>\n",
              "    </tr>\n",
              "    <tr>\n",
              "      <th>25%</th>\n",
              "      <td>0.000000</td>\n",
              "      <td>0.000000</td>\n",
              "      <td>0.000000</td>\n",
              "      <td>0.000000</td>\n",
              "      <td>0.000000</td>\n",
              "      <td>0.000000</td>\n",
              "    </tr>\n",
              "    <tr>\n",
              "      <th>50%</th>\n",
              "      <td>0.000000</td>\n",
              "      <td>0.000000</td>\n",
              "      <td>0.000000</td>\n",
              "      <td>0.000000</td>\n",
              "      <td>0.000000</td>\n",
              "      <td>0.000000</td>\n",
              "    </tr>\n",
              "    <tr>\n",
              "      <th>75%</th>\n",
              "      <td>0.000000</td>\n",
              "      <td>0.000000</td>\n",
              "      <td>0.000000</td>\n",
              "      <td>0.000000</td>\n",
              "      <td>0.000000</td>\n",
              "      <td>0.000000</td>\n",
              "    </tr>\n",
              "    <tr>\n",
              "      <th>max</th>\n",
              "      <td>1.000000</td>\n",
              "      <td>1.000000</td>\n",
              "      <td>1.000000</td>\n",
              "      <td>1.000000</td>\n",
              "      <td>1.000000</td>\n",
              "      <td>1.000000</td>\n",
              "    </tr>\n",
              "  </tbody>\n",
              "</table>\n",
              "</div>"
            ],
            "text/plain": [
              "               toxic   severe_toxic  ...         insult  identity_hate\n",
              "count  159571.000000  159571.000000  ...  159571.000000  159571.000000\n",
              "mean        0.095844       0.009996  ...       0.049364       0.008805\n",
              "std         0.294379       0.099477  ...       0.216627       0.093420\n",
              "min         0.000000       0.000000  ...       0.000000       0.000000\n",
              "25%         0.000000       0.000000  ...       0.000000       0.000000\n",
              "50%         0.000000       0.000000  ...       0.000000       0.000000\n",
              "75%         0.000000       0.000000  ...       0.000000       0.000000\n",
              "max         1.000000       1.000000  ...       1.000000       1.000000\n",
              "\n",
              "[8 rows x 6 columns]"
            ]
          },
          "metadata": {
            "tags": []
          },
          "execution_count": 11
        }
      ]
    },
    {
      "cell_type": "code",
      "metadata": {
        "colab": {
          "base_uri": "https://localhost:8080/"
        },
        "id": "8XymNXjY0pCv",
        "outputId": "a853c1df-51ee-4107-b40f-fb5447b42e57"
      },
      "source": [
        "# Getting the info about the train set\n",
        "data.info()"
      ],
      "execution_count": 12,
      "outputs": [
        {
          "output_type": "stream",
          "text": [
            "<class 'pandas.core.frame.DataFrame'>\n",
            "RangeIndex: 159571 entries, 0 to 159570\n",
            "Data columns (total 8 columns):\n",
            " #   Column         Non-Null Count   Dtype \n",
            "---  ------         --------------   ----- \n",
            " 0   id             159571 non-null  object\n",
            " 1   comment_text   159571 non-null  object\n",
            " 2   toxic          159571 non-null  int64 \n",
            " 3   severe_toxic   159571 non-null  int64 \n",
            " 4   obscene        159571 non-null  int64 \n",
            " 5   threat         159571 non-null  int64 \n",
            " 6   insult         159571 non-null  int64 \n",
            " 7   identity_hate  159571 non-null  int64 \n",
            "dtypes: int64(6), object(2)\n",
            "memory usage: 9.7+ MB\n"
          ],
          "name": "stdout"
        }
      ]
    },
    {
      "cell_type": "code",
      "metadata": {
        "id": "cdza72ka0pCy"
      },
      "source": [
        "data.drop(['id'], axis=1, inplace=True)#droping columns that is not needed fromn training data"
      ],
      "execution_count": 13,
      "outputs": []
    },
    {
      "cell_type": "code",
      "metadata": {
        "colab": {
          "base_uri": "https://localhost:8080/",
          "height": 402
        },
        "id": "5k-U7QBJBe2e",
        "outputId": "362fa5ec-5f36-4544-9f50-64d9d51d8cbb"
      },
      "source": [
        "X=data.drop(['toxic','severe_toxic','obscene','threat','insult','identity_hate'],axis=1)\n",
        "X"
      ],
      "execution_count": 32,
      "outputs": [
        {
          "output_type": "execute_result",
          "data": {
            "text/html": [
              "<div>\n",
              "<style scoped>\n",
              "    .dataframe tbody tr th:only-of-type {\n",
              "        vertical-align: middle;\n",
              "    }\n",
              "\n",
              "    .dataframe tbody tr th {\n",
              "        vertical-align: top;\n",
              "    }\n",
              "\n",
              "    .dataframe thead th {\n",
              "        text-align: right;\n",
              "    }\n",
              "</style>\n",
              "<table border=\"1\" class=\"dataframe\">\n",
              "  <thead>\n",
              "    <tr style=\"text-align: right;\">\n",
              "      <th></th>\n",
              "      <th>comment_text</th>\n",
              "    </tr>\n",
              "  </thead>\n",
              "  <tbody>\n",
              "    <tr>\n",
              "      <th>0</th>\n",
              "      <td>Explanation\\nWhy the edits made under my usern...</td>\n",
              "    </tr>\n",
              "    <tr>\n",
              "      <th>1</th>\n",
              "      <td>D'aww! He matches this background colour I'm s...</td>\n",
              "    </tr>\n",
              "    <tr>\n",
              "      <th>2</th>\n",
              "      <td>Hey man, I'm really not trying to edit war. It...</td>\n",
              "    </tr>\n",
              "    <tr>\n",
              "      <th>3</th>\n",
              "      <td>\"\\nMore\\nI can't make any real suggestions on ...</td>\n",
              "    </tr>\n",
              "    <tr>\n",
              "      <th>4</th>\n",
              "      <td>You, sir, are my hero. Any chance you remember...</td>\n",
              "    </tr>\n",
              "    <tr>\n",
              "      <th>...</th>\n",
              "      <td>...</td>\n",
              "    </tr>\n",
              "    <tr>\n",
              "      <th>159566</th>\n",
              "      <td>\":::::And for the second time of asking, when ...</td>\n",
              "    </tr>\n",
              "    <tr>\n",
              "      <th>159567</th>\n",
              "      <td>You should be ashamed of yourself \\n\\nThat is ...</td>\n",
              "    </tr>\n",
              "    <tr>\n",
              "      <th>159568</th>\n",
              "      <td>Spitzer \\n\\nUmm, theres no actual article for ...</td>\n",
              "    </tr>\n",
              "    <tr>\n",
              "      <th>159569</th>\n",
              "      <td>And it looks like it was actually you who put ...</td>\n",
              "    </tr>\n",
              "    <tr>\n",
              "      <th>159570</th>\n",
              "      <td>\"\\nAnd ... I really don't think you understand...</td>\n",
              "    </tr>\n",
              "  </tbody>\n",
              "</table>\n",
              "<p>159571 rows × 1 columns</p>\n",
              "</div>"
            ],
            "text/plain": [
              "                                             comment_text\n",
              "0       Explanation\\nWhy the edits made under my usern...\n",
              "1       D'aww! He matches this background colour I'm s...\n",
              "2       Hey man, I'm really not trying to edit war. It...\n",
              "3       \"\\nMore\\nI can't make any real suggestions on ...\n",
              "4       You, sir, are my hero. Any chance you remember...\n",
              "...                                                   ...\n",
              "159566  \":::::And for the second time of asking, when ...\n",
              "159567  You should be ashamed of yourself \\n\\nThat is ...\n",
              "159568  Spitzer \\n\\nUmm, theres no actual article for ...\n",
              "159569  And it looks like it was actually you who put ...\n",
              "159570  \"\\nAnd ... I really don't think you understand...\n",
              "\n",
              "[159571 rows x 1 columns]"
            ]
          },
          "metadata": {
            "tags": []
          },
          "execution_count": 32
        }
      ]
    },
    {
      "cell_type": "code",
      "metadata": {
        "colab": {
          "base_uri": "https://localhost:8080/",
          "height": 402
        },
        "id": "92oKOe1I0pC1",
        "outputId": "713d45f2-a5e9-4c69-caf9-b71c09b6896b"
      },
      "source": [
        "y=data.drop(['comment_text'], axis=1)\n",
        "y"
      ],
      "execution_count": 14,
      "outputs": [
        {
          "output_type": "execute_result",
          "data": {
            "text/html": [
              "<div>\n",
              "<style scoped>\n",
              "    .dataframe tbody tr th:only-of-type {\n",
              "        vertical-align: middle;\n",
              "    }\n",
              "\n",
              "    .dataframe tbody tr th {\n",
              "        vertical-align: top;\n",
              "    }\n",
              "\n",
              "    .dataframe thead th {\n",
              "        text-align: right;\n",
              "    }\n",
              "</style>\n",
              "<table border=\"1\" class=\"dataframe\">\n",
              "  <thead>\n",
              "    <tr style=\"text-align: right;\">\n",
              "      <th></th>\n",
              "      <th>toxic</th>\n",
              "      <th>severe_toxic</th>\n",
              "      <th>obscene</th>\n",
              "      <th>threat</th>\n",
              "      <th>insult</th>\n",
              "      <th>identity_hate</th>\n",
              "    </tr>\n",
              "  </thead>\n",
              "  <tbody>\n",
              "    <tr>\n",
              "      <th>0</th>\n",
              "      <td>0</td>\n",
              "      <td>0</td>\n",
              "      <td>0</td>\n",
              "      <td>0</td>\n",
              "      <td>0</td>\n",
              "      <td>0</td>\n",
              "    </tr>\n",
              "    <tr>\n",
              "      <th>1</th>\n",
              "      <td>0</td>\n",
              "      <td>0</td>\n",
              "      <td>0</td>\n",
              "      <td>0</td>\n",
              "      <td>0</td>\n",
              "      <td>0</td>\n",
              "    </tr>\n",
              "    <tr>\n",
              "      <th>2</th>\n",
              "      <td>0</td>\n",
              "      <td>0</td>\n",
              "      <td>0</td>\n",
              "      <td>0</td>\n",
              "      <td>0</td>\n",
              "      <td>0</td>\n",
              "    </tr>\n",
              "    <tr>\n",
              "      <th>3</th>\n",
              "      <td>0</td>\n",
              "      <td>0</td>\n",
              "      <td>0</td>\n",
              "      <td>0</td>\n",
              "      <td>0</td>\n",
              "      <td>0</td>\n",
              "    </tr>\n",
              "    <tr>\n",
              "      <th>4</th>\n",
              "      <td>0</td>\n",
              "      <td>0</td>\n",
              "      <td>0</td>\n",
              "      <td>0</td>\n",
              "      <td>0</td>\n",
              "      <td>0</td>\n",
              "    </tr>\n",
              "    <tr>\n",
              "      <th>...</th>\n",
              "      <td>...</td>\n",
              "      <td>...</td>\n",
              "      <td>...</td>\n",
              "      <td>...</td>\n",
              "      <td>...</td>\n",
              "      <td>...</td>\n",
              "    </tr>\n",
              "    <tr>\n",
              "      <th>159566</th>\n",
              "      <td>0</td>\n",
              "      <td>0</td>\n",
              "      <td>0</td>\n",
              "      <td>0</td>\n",
              "      <td>0</td>\n",
              "      <td>0</td>\n",
              "    </tr>\n",
              "    <tr>\n",
              "      <th>159567</th>\n",
              "      <td>0</td>\n",
              "      <td>0</td>\n",
              "      <td>0</td>\n",
              "      <td>0</td>\n",
              "      <td>0</td>\n",
              "      <td>0</td>\n",
              "    </tr>\n",
              "    <tr>\n",
              "      <th>159568</th>\n",
              "      <td>0</td>\n",
              "      <td>0</td>\n",
              "      <td>0</td>\n",
              "      <td>0</td>\n",
              "      <td>0</td>\n",
              "      <td>0</td>\n",
              "    </tr>\n",
              "    <tr>\n",
              "      <th>159569</th>\n",
              "      <td>0</td>\n",
              "      <td>0</td>\n",
              "      <td>0</td>\n",
              "      <td>0</td>\n",
              "      <td>0</td>\n",
              "      <td>0</td>\n",
              "    </tr>\n",
              "    <tr>\n",
              "      <th>159570</th>\n",
              "      <td>0</td>\n",
              "      <td>0</td>\n",
              "      <td>0</td>\n",
              "      <td>0</td>\n",
              "      <td>0</td>\n",
              "      <td>0</td>\n",
              "    </tr>\n",
              "  </tbody>\n",
              "</table>\n",
              "<p>159571 rows × 6 columns</p>\n",
              "</div>"
            ],
            "text/plain": [
              "        toxic  severe_toxic  obscene  threat  insult  identity_hate\n",
              "0           0             0        0       0       0              0\n",
              "1           0             0        0       0       0              0\n",
              "2           0             0        0       0       0              0\n",
              "3           0             0        0       0       0              0\n",
              "4           0             0        0       0       0              0\n",
              "...       ...           ...      ...     ...     ...            ...\n",
              "159566      0             0        0       0       0              0\n",
              "159567      0             0        0       0       0              0\n",
              "159568      0             0        0       0       0              0\n",
              "159569      0             0        0       0       0              0\n",
              "159570      0             0        0       0       0              0\n",
              "\n",
              "[159571 rows x 6 columns]"
            ]
          },
          "metadata": {
            "tags": []
          },
          "execution_count": 14
        }
      ]
    },
    {
      "cell_type": "code",
      "metadata": {
        "id": "BAhLZF4cmi7p"
      },
      "source": [
        "X_train, X_test, y_train, y_test = train_test_split( X,y, test_size=0.2)"
      ],
      "execution_count": 33,
      "outputs": []
    },
    {
      "cell_type": "code",
      "metadata": {
        "colab": {
          "base_uri": "https://localhost:8080/",
          "height": 195
        },
        "id": "izPHObms-zm3",
        "outputId": "ff734255-55e6-4bfb-a6a0-d89350a5bde5"
      },
      "source": [
        "X_train.head()"
      ],
      "execution_count": 34,
      "outputs": [
        {
          "output_type": "execute_result",
          "data": {
            "text/html": [
              "<div>\n",
              "<style scoped>\n",
              "    .dataframe tbody tr th:only-of-type {\n",
              "        vertical-align: middle;\n",
              "    }\n",
              "\n",
              "    .dataframe tbody tr th {\n",
              "        vertical-align: top;\n",
              "    }\n",
              "\n",
              "    .dataframe thead th {\n",
              "        text-align: right;\n",
              "    }\n",
              "</style>\n",
              "<table border=\"1\" class=\"dataframe\">\n",
              "  <thead>\n",
              "    <tr style=\"text-align: right;\">\n",
              "      <th></th>\n",
              "      <th>comment_text</th>\n",
              "    </tr>\n",
              "  </thead>\n",
              "  <tbody>\n",
              "    <tr>\n",
              "      <th>109906</th>\n",
              "      <td>\"\\nHeh, no inconvenience really! Thanks for th...</td>\n",
              "    </tr>\n",
              "    <tr>\n",
              "      <th>130420</th>\n",
              "      <td>\"\\n\\n Public Image edit or addon? \\n\\nI've ove...</td>\n",
              "    </tr>\n",
              "    <tr>\n",
              "      <th>43361</th>\n",
              "      <td>\"\\n\\nThe potential for expansion does not just...</td>\n",
              "    </tr>\n",
              "    <tr>\n",
              "      <th>92685</th>\n",
              "      <td>Category:Bankrupt businesspeople\\n\\n:Category:...</td>\n",
              "    </tr>\n",
              "    <tr>\n",
              "      <th>132806</th>\n",
              "      <td>Please remove McClellan from this list. It is ...</td>\n",
              "    </tr>\n",
              "  </tbody>\n",
              "</table>\n",
              "</div>"
            ],
            "text/plain": [
              "                                             comment_text\n",
              "109906  \"\\nHeh, no inconvenience really! Thanks for th...\n",
              "130420  \"\\n\\n Public Image edit or addon? \\n\\nI've ove...\n",
              "43361   \"\\n\\nThe potential for expansion does not just...\n",
              "92685   Category:Bankrupt businesspeople\\n\\n:Category:...\n",
              "132806  Please remove McClellan from this list. It is ..."
            ]
          },
          "metadata": {
            "tags": []
          },
          "execution_count": 34
        }
      ]
    },
    {
      "cell_type": "code",
      "metadata": {
        "colab": {
          "base_uri": "https://localhost:8080/",
          "height": 402
        },
        "id": "dXzWeDU8-zsE",
        "outputId": "379c722a-7e78-4b5f-c9ec-bde7668e2d4b"
      },
      "source": [
        "X_test"
      ],
      "execution_count": 35,
      "outputs": [
        {
          "output_type": "execute_result",
          "data": {
            "text/html": [
              "<div>\n",
              "<style scoped>\n",
              "    .dataframe tbody tr th:only-of-type {\n",
              "        vertical-align: middle;\n",
              "    }\n",
              "\n",
              "    .dataframe tbody tr th {\n",
              "        vertical-align: top;\n",
              "    }\n",
              "\n",
              "    .dataframe thead th {\n",
              "        text-align: right;\n",
              "    }\n",
              "</style>\n",
              "<table border=\"1\" class=\"dataframe\">\n",
              "  <thead>\n",
              "    <tr style=\"text-align: right;\">\n",
              "      <th></th>\n",
              "      <th>comment_text</th>\n",
              "    </tr>\n",
              "  </thead>\n",
              "  <tbody>\n",
              "    <tr>\n",
              "      <th>69811</th>\n",
              "      <td>\"\\nI declined the request for unprotection.  I...</td>\n",
              "    </tr>\n",
              "    <tr>\n",
              "      <th>147993</th>\n",
              "      <td>\"\\n\\n Rename article, reorganize subcategories...</td>\n",
              "    </tr>\n",
              "    <tr>\n",
              "      <th>135194</th>\n",
              "      <td>\"\\n\\nTo give further evidence, English Admin c...</td>\n",
              "    </tr>\n",
              "    <tr>\n",
              "      <th>110065</th>\n",
              "      <td>Final decision\\nThe arbitration committee has ...</td>\n",
              "    </tr>\n",
              "    <tr>\n",
              "      <th>39054</th>\n",
              "      <td>Except that wasn't always a redirect page. It ...</td>\n",
              "    </tr>\n",
              "    <tr>\n",
              "      <th>...</th>\n",
              "      <td>...</td>\n",
              "    </tr>\n",
              "    <tr>\n",
              "      <th>72570</th>\n",
              "      <td>NIHH Science Update • December 15, 2010\\n\\nSci...</td>\n",
              "    </tr>\n",
              "    <tr>\n",
              "      <th>123312</th>\n",
              "      <td>\"\\nAwesome. Just awesome. I haven't even begun...</td>\n",
              "    </tr>\n",
              "    <tr>\n",
              "      <th>32264</th>\n",
              "      <td>\"\\n\\n\"\"Low intensity\"\" is the key. I got very ...</td>\n",
              "    </tr>\n",
              "    <tr>\n",
              "      <th>20883</th>\n",
              "      <td>Tide Rolls you are unbelievable. I,not you, ha...</td>\n",
              "    </tr>\n",
              "    <tr>\n",
              "      <th>123301</th>\n",
              "      <td>Be a polite and sicnere on on Wikipedia. \\n\\nI...</td>\n",
              "    </tr>\n",
              "  </tbody>\n",
              "</table>\n",
              "<p>31915 rows × 1 columns</p>\n",
              "</div>"
            ],
            "text/plain": [
              "                                             comment_text\n",
              "69811   \"\\nI declined the request for unprotection.  I...\n",
              "147993  \"\\n\\n Rename article, reorganize subcategories...\n",
              "135194  \"\\n\\nTo give further evidence, English Admin c...\n",
              "110065  Final decision\\nThe arbitration committee has ...\n",
              "39054   Except that wasn't always a redirect page. It ...\n",
              "...                                                   ...\n",
              "72570   NIHH Science Update • December 15, 2010\\n\\nSci...\n",
              "123312  \"\\nAwesome. Just awesome. I haven't even begun...\n",
              "32264   \"\\n\\n\"\"Low intensity\"\" is the key. I got very ...\n",
              "20883   Tide Rolls you are unbelievable. I,not you, ha...\n",
              "123301  Be a polite and sicnere on on Wikipedia. \\n\\nI...\n",
              "\n",
              "[31915 rows x 1 columns]"
            ]
          },
          "metadata": {
            "tags": []
          },
          "execution_count": 35
        }
      ]
    },
    {
      "cell_type": "code",
      "metadata": {
        "colab": {
          "base_uri": "https://localhost:8080/"
        },
        "id": "cAnhjyvD0pC4",
        "outputId": "6142897a-8c4e-4cf0-8d76-8b4aab274a19"
      },
      "source": [
        "import re\n",
        "import nltk\n",
        "import string \n",
        "from nltk.corpus import stopwords\n",
        "nltk.download('stopwords')"
      ],
      "execution_count": 36,
      "outputs": [
        {
          "output_type": "stream",
          "text": [
            "[nltk_data] Downloading package stopwords to /root/nltk_data...\n",
            "[nltk_data]   Package stopwords is already up-to-date!\n"
          ],
          "name": "stdout"
        },
        {
          "output_type": "execute_result",
          "data": {
            "text/plain": [
              "True"
            ]
          },
          "metadata": {
            "tags": []
          },
          "execution_count": 36
        }
      ]
    },
    {
      "cell_type": "code",
      "metadata": {
        "id": "PoVzPx500pC6"
      },
      "source": [
        "def comments_to_words(comments):\n",
        "    comments = comments.lower()\n",
        "    comments = re.sub('\\[.*?\\]', '', comments)\n",
        "    comments = re.sub('https?://\\S+|www\\.\\S+', '', comments)\n",
        "    comments = re.sub('<.*?>+', '', comments)\n",
        "    comments = re.sub('[%s]' % re.escape(string.punctuation), '', comments)\n",
        "    comments = re.sub('\\n', '', comments)\n",
        "    comments = re.sub('\\w*\\d\\w*', '', comments)                  \n",
        "    return comments"
      ],
      "execution_count": 37,
      "outputs": []
    },
    {
      "cell_type": "code",
      "metadata": {
        "colab": {
          "base_uri": "https://localhost:8080/"
        },
        "id": "R3LkknfvB-nn",
        "outputId": "279052cb-9e1d-4e2d-f54b-a612107ecd19"
      },
      "source": [
        "X_train['clean_comments'] = X_train['comment_text'].apply(lambda x: comments_to_words(x))\n",
        "\n",
        "X_test['clean_comments'] = X_test['comment_text'].apply(lambda x: comments_to_words(x))"
      ],
      "execution_count": 38,
      "outputs": [
        {
          "output_type": "stream",
          "text": [
            "/usr/local/lib/python3.7/dist-packages/ipykernel_launcher.py:1: SettingWithCopyWarning: \n",
            "A value is trying to be set on a copy of a slice from a DataFrame.\n",
            "Try using .loc[row_indexer,col_indexer] = value instead\n",
            "\n",
            "See the caveats in the documentation: https://pandas.pydata.org/pandas-docs/stable/user_guide/indexing.html#returning-a-view-versus-a-copy\n",
            "  \"\"\"Entry point for launching an IPython kernel.\n",
            "/usr/local/lib/python3.7/dist-packages/ipykernel_launcher.py:3: SettingWithCopyWarning: \n",
            "A value is trying to be set on a copy of a slice from a DataFrame.\n",
            "Try using .loc[row_indexer,col_indexer] = value instead\n",
            "\n",
            "See the caveats in the documentation: https://pandas.pydata.org/pandas-docs/stable/user_guide/indexing.html#returning-a-view-versus-a-copy\n",
            "  This is separate from the ipykernel package so we can avoid doing imports until\n"
          ],
          "name": "stderr"
        }
      ]
    },
    {
      "cell_type": "code",
      "metadata": {
        "colab": {
          "base_uri": "https://localhost:8080/"
        },
        "id": "W-6lZObdAhXj",
        "outputId": "f3a60340-4e85-4a1c-f3b1-2815c980e32d"
      },
      "source": [
        "X_train['clean_comments']"
      ],
      "execution_count": 39,
      "outputs": [
        {
          "output_type": "execute_result",
          "data": {
            "text/plain": [
              "109906    heh no inconvenience really thanks for the sem...\n",
              "130420     public image edit or addon ive overlooked som...\n",
              "43361     the potential for expansion does not justify k...\n",
              "92685     categorybankrupt businesspeoplecategorybankrup...\n",
              "132806    please remove mcclellan from this list it is a...\n",
              "                                ...                        \n",
              "107578    hey bobby get a clue i dont deal with tards or...\n",
              "72227     thanks i just saw your latest efforts at leon ...\n",
              "119688    no good source for scientific rejection of ico...\n",
              "150102     please do not vandalize pages as you did with...\n",
              "115735    sorry i counterchecked the source for the genr...\n",
              "Name: clean_comments, Length: 127656, dtype: object"
            ]
          },
          "metadata": {
            "tags": []
          },
          "execution_count": 39
        }
      ]
    },
    {
      "cell_type": "code",
      "metadata": {
        "colab": {
          "base_uri": "https://localhost:8080/"
        },
        "id": "ODFsSSC8CEJQ",
        "outputId": "e61fad3c-ab31-44a2-bd5b-85c069708b21"
      },
      "source": [
        "\n",
        "\n",
        "X_test['clean_comments']"
      ],
      "execution_count": 40,
      "outputs": [
        {
          "output_type": "execute_result",
          "data": {
            "text/plain": [
              "69811     i declined the request for unprotection  i don...\n",
              "147993     rename article reorganize subcategories and i...\n",
              "135194    to give further evidence english admin called ...\n",
              "110065    final decisionthe arbitration committee has re...\n",
              "39054     except that wasnt always a redirect page it wa...\n",
              "                                ...                        \n",
              "72570     nihh science update • december   at the johns ...\n",
              "123312    awesome just awesome i havent even begun to ex...\n",
              "32264     low intensity is the key i got very turned off...\n",
              "20883     tide rolls you are unbelievable inot you have ...\n",
              "123301    be a polite and sicnere on on wikipedia i dont...\n",
              "Name: clean_comments, Length: 31915, dtype: object"
            ]
          },
          "metadata": {
            "tags": []
          },
          "execution_count": 40
        }
      ]
    },
    {
      "cell_type": "code",
      "metadata": {
        "id": "do5itMNCSlPQ"
      },
      "source": [
        "def remove_stopwords(comments):\n",
        "    words = [word for word in comments.split() if word not in set(stopwords.words('english'))]\n",
        "    stop_count_sentence=' '.join(words)\n",
        "    return stop_count_sentence"
      ],
      "execution_count": 41,
      "outputs": []
    },
    {
      "cell_type": "code",
      "metadata": {
        "colab": {
          "base_uri": "https://localhost:8080/"
        },
        "id": "BlIrrf1YSlUB",
        "outputId": "1a282a21-e214-4111-8757-c90dfe5ed45a"
      },
      "source": [
        "X_train['clean_comments']=X_train['clean_comments'].apply(lambda x: remove_stopwords(x))\n",
        "\n",
        "X_test['clean_comments']=X_test['clean_comments'].apply(lambda x: remove_stopwords(x))"
      ],
      "execution_count": 42,
      "outputs": [
        {
          "output_type": "stream",
          "text": [
            "/usr/local/lib/python3.7/dist-packages/ipykernel_launcher.py:1: SettingWithCopyWarning: \n",
            "A value is trying to be set on a copy of a slice from a DataFrame.\n",
            "Try using .loc[row_indexer,col_indexer] = value instead\n",
            "\n",
            "See the caveats in the documentation: https://pandas.pydata.org/pandas-docs/stable/user_guide/indexing.html#returning-a-view-versus-a-copy\n",
            "  \"\"\"Entry point for launching an IPython kernel.\n",
            "/usr/local/lib/python3.7/dist-packages/ipykernel_launcher.py:3: SettingWithCopyWarning: \n",
            "A value is trying to be set on a copy of a slice from a DataFrame.\n",
            "Try using .loc[row_indexer,col_indexer] = value instead\n",
            "\n",
            "See the caveats in the documentation: https://pandas.pydata.org/pandas-docs/stable/user_guide/indexing.html#returning-a-view-versus-a-copy\n",
            "  This is separate from the ipykernel package so we can avoid doing imports until\n"
          ],
          "name": "stderr"
        }
      ]
    },
    {
      "cell_type": "code",
      "metadata": {
        "colab": {
          "base_uri": "https://localhost:8080/"
        },
        "id": "hD_AyrPDSlYA",
        "outputId": "c492c6b9-c6c1-4bfe-d6ca-746d07ff0a62"
      },
      "source": [
        "X_train['clean_comments']"
      ],
      "execution_count": 44,
      "outputs": [
        {
          "output_type": "execute_result",
          "data": {
            "text/plain": [
              "109906    heh inconvenience really thanks semi possibly ...\n",
              "130420    public image edit addon ive overlooked contemp...\n",
              "43361     potential expansion justify keeping something ...\n",
              "92685     categorybankrupt businesspeoplecategorybankrup...\n",
              "132806    please remove mcclellan list absolutely confus...\n",
              "                                ...                        \n",
              "107578     hey bobby get clue dont deal tards liars jan utc\n",
              "72227     thanks saw latest efforts leon jordan went ema...\n",
              "119688    good source scientific rejection iconsi remove...\n",
              "150102    please vandalize pages edit horsepower continu...\n",
              "115735    sorry counterchecked source genre synthpop now...\n",
              "Name: clean_comments, Length: 127656, dtype: object"
            ]
          },
          "metadata": {
            "tags": []
          },
          "execution_count": 44
        }
      ]
    },
    {
      "cell_type": "code",
      "metadata": {
        "colab": {
          "base_uri": "https://localhost:8080/"
        },
        "id": "_wd3f_0RGp6A",
        "outputId": "8015394a-9819-4392-d017-6ff577bd82e1"
      },
      "source": [
        "X_test['clean_comments']"
      ],
      "execution_count": 45,
      "outputs": [
        {
          "output_type": "execute_result",
          "data": {
            "text/plain": [
              "69811     declined request unprotection dont see evidenc...\n",
              "147993    rename article reorganize subcategories incorp...\n",
              "135194    give evidence english admin called ruhrfisch a...\n",
              "110065    final decisionthe arbitration committee reache...\n",
              "39054     except wasnt always redirect page information ...\n",
              "                                ...                        \n",
              "72570     nihh science update • december johns hopkins u...\n",
              "123312    awesome awesome havent even begun explore muse...\n",
              "32264     low intensity key got turned political bullshi...\n",
              "20883     tide rolls unbelievable inot called discussion...\n",
              "123301    polite sicnere wikipedia dont know makes runni...\n",
              "Name: clean_comments, Length: 31915, dtype: object"
            ]
          },
          "metadata": {
            "tags": []
          },
          "execution_count": 45
        }
      ]
    },
    {
      "cell_type": "code",
      "metadata": {
        "colab": {
          "base_uri": "https://localhost:8080/"
        },
        "id": "LQ_9mp5dSlbk",
        "outputId": "8e01fa72-9162-444c-bde5-65dafd8c8997"
      },
      "source": [
        "nltk.download('wordnet') \n",
        "nltk.download('punkt')\n",
        "from nltk.tokenize import word_tokenize\n",
        "from nltk.stem import WordNetLemmatizer\n",
        "from nltk.corpus import wordnet\n",
        "import nltk\n",
        "nltk.download('averaged_perceptron_tagger')"
      ],
      "execution_count": 46,
      "outputs": [
        {
          "output_type": "stream",
          "text": [
            "[nltk_data] Downloading package wordnet to /root/nltk_data...\n",
            "[nltk_data]   Unzipping corpora/wordnet.zip.\n",
            "[nltk_data] Downloading package punkt to /root/nltk_data...\n",
            "[nltk_data]   Unzipping tokenizers/punkt.zip.\n",
            "[nltk_data] Downloading package averaged_perceptron_tagger to\n",
            "[nltk_data]     /root/nltk_data...\n",
            "[nltk_data]   Unzipping taggers/averaged_perceptron_tagger.zip.\n"
          ],
          "name": "stdout"
        },
        {
          "output_type": "execute_result",
          "data": {
            "text/plain": [
              "True"
            ]
          },
          "metadata": {
            "tags": []
          },
          "execution_count": 46
        }
      ]
    },
    {
      "cell_type": "code",
      "metadata": {
        "id": "u0vWXAGqSkHz"
      },
      "source": [
        "X_train_token=[]\n",
        "for w in X_train['clean_comments']:\n",
        "    X_train_token.append(word_tokenize(w))\n",
        "X_test_token=[]\n",
        "for w in X_test['clean_comments']:\n",
        "    X_test_token.append(word_tokenize(w))\n"
      ],
      "execution_count": 48,
      "outputs": []
    },
    {
      "cell_type": "code",
      "metadata": {
        "colab": {
          "base_uri": "https://localhost:8080/"
        },
        "id": "vG151hBsG_1t",
        "outputId": "bcd07a08-d6c2-43a5-89eb-bb5ecf6eebb3"
      },
      "source": [
        "X_train_token[0:2]"
      ],
      "execution_count": 49,
      "outputs": [
        {
          "output_type": "execute_result",
          "data": {
            "text/plain": [
              "[['heh',\n",
              "  'inconvenience',\n",
              "  'really',\n",
              "  'thanks',\n",
              "  'semi',\n",
              "  'possibly',\n",
              "  'isnt',\n",
              "  'even',\n",
              "  'needed',\n",
              "  'half',\n",
              "  'main',\n",
              "  'bone',\n",
              "  'apparent',\n",
              "  'contention',\n",
              "  'afd',\n",
              "  'well',\n",
              "  'seemed',\n",
              "  'like',\n",
              "  'good',\n",
              "  'idea',\n",
              "  'thanks',\n",
              "  'helping',\n",
              "  '•',\n",
              "  'lawrence',\n",
              "  'cohen'],\n",
              " ['public',\n",
              "  'image',\n",
              "  'edit',\n",
              "  'addon',\n",
              "  'ive',\n",
              "  'overlooked',\n",
              "  'contemporary',\n",
              "  'musicians',\n",
              "  'sorted',\n",
              "  'article',\n",
              "  'public',\n",
              "  'image',\n",
              "  'article',\n",
              "  'current',\n",
              "  'one',\n",
              "  'bit',\n",
              "  'dumped',\n",
              "  'way',\n",
              "  'doesnt',\n",
              "  'sort',\n",
              "  'musical',\n",
              "  'background',\n",
              "  'actual',\n",
              "  'public',\n",
              "  'image',\n",
              "  'etc',\n",
              "  'made',\n",
              "  'previous',\n",
              "  'edit',\n",
              "  'sorting',\n",
              "  'reverted',\n",
              "  'wondering',\n",
              "  'would',\n",
              "  'alright',\n",
              "  'add',\n",
              "  'consider',\n",
              "  'parts',\n",
              "  'edited',\n",
              "  'version',\n",
              "  'added',\n",
              "  'current',\n",
              "  'public',\n",
              "  'image',\n",
              "  'article',\n",
              "  'thank',\n",
              "  'talk',\n",
              "  '·',\n",
              "  'contribs',\n",
              "  'version',\n",
              "  'reverted']]"
            ]
          },
          "metadata": {
            "tags": []
          },
          "execution_count": 49
        }
      ]
    },
    {
      "cell_type": "code",
      "metadata": {
        "colab": {
          "base_uri": "https://localhost:8080/"
        },
        "id": "3j1vsfTLHA52",
        "outputId": "c2c80233-0d1f-4e2b-ec9a-a9df2842d000"
      },
      "source": [
        "X_test_token[0:2]"
      ],
      "execution_count": 50,
      "outputs": [
        {
          "output_type": "execute_result",
          "data": {
            "text/plain": [
              "[['declined',\n",
              "  'request',\n",
              "  'unprotection',\n",
              "  'dont',\n",
              "  'see',\n",
              "  'evidence',\n",
              "  'apple',\n",
              "  'plans',\n",
              "  'calling',\n",
              "  'new',\n",
              "  'product',\n",
              "  'ipad',\n",
              "  'current',\n",
              "  'redirect',\n",
              "  'remain',\n",
              "  'asis',\n",
              "  'opinion',\n",
              "  'prattle'],\n",
              " ['rename',\n",
              "  'article',\n",
              "  'reorganize',\n",
              "  'subcategories',\n",
              "  'incorporate',\n",
              "  'jesus',\n",
              "  'islam',\n",
              "  'mainstream',\n",
              "  'portrait',\n",
              "  'articles',\n",
              "  'title',\n",
              "  'misleading',\n",
              "  'leads',\n",
              "  'us',\n",
              "  'believe',\n",
              "  'article',\n",
              "  'historical',\n",
              "  'historicity',\n",
              "  'jesus',\n",
              "  'fact',\n",
              "  'article',\n",
              "  'historical',\n",
              "  'portraits',\n",
              "  'jesus',\n",
              "  'named',\n",
              "  'secondly',\n",
              "  'subtitles',\n",
              "  'need',\n",
              "  'renamedreorganized',\n",
              "  'material',\n",
              "  'needs',\n",
              "  'shifted',\n",
              "  'different',\n",
              "  'categories',\n",
              "  'entire',\n",
              "  'cultural',\n",
              "  'background',\n",
              "  'subsection',\n",
              "  'christian',\n",
              "  'pov',\n",
              "  'named',\n",
              "  'historical',\n",
              "  'elements',\n",
              "  'needs',\n",
              "  'largely',\n",
              "  'removed',\n",
              "  'since',\n",
              "  'article',\n",
              "  'portraits',\n",
              "  'subsections',\n",
              "  'category',\n",
              "  'already',\n",
              "  'covered',\n",
              "  'historicity',\n",
              "  'jesus',\n",
              "  'article',\n",
              "  'fact',\n",
              "  'duplicated',\n",
              "  'thirdly',\n",
              "  'perhaps',\n",
              "  'glaringly',\n",
              "  'secular',\n",
              "  'pov',\n",
              "  'article',\n",
              "  'needs',\n",
              "  'incorporate',\n",
              "  'islamic',\n",
              "  'portraits',\n",
              "  'jesus',\n",
              "  'isa',\n",
              "  'ibn',\n",
              "  'maryam',\n",
              "  'عيسى',\n",
              "  'portrait',\n",
              "  'needs',\n",
              "  'mainstream',\n",
              "  'portrait',\n",
              "  'portrait',\n",
              "  'included',\n",
              "  'article',\n",
              "  'needs',\n",
              "  'renamed',\n",
              "  'historical',\n",
              "  'christian',\n",
              "  'portraits',\n",
              "  'jesus',\n",
              "  'recommendations',\n",
              "  'would',\n",
              "  'good',\n",
              "  'start',\n",
              "  'establishing',\n",
              "  'npov',\n",
              "  'article']]"
            ]
          },
          "metadata": {
            "tags": []
          },
          "execution_count": 50
        }
      ]
    },
    {
      "cell_type": "code",
      "metadata": {
        "id": "3BlgtfyRSkNj"
      },
      "source": [
        "lemmatizer=WordNetLemmatizer()"
      ],
      "execution_count": 51,
      "outputs": []
    },
    {
      "cell_type": "code",
      "metadata": {
        "id": "kfkOVxW4SkTH"
      },
      "source": [
        "def simplepos(tag):   \n",
        "    if tag.startswith('J'):\n",
        "        return wordnet.ADJ\n",
        "    elif tag.startswith('V'):\n",
        "        return wordnet.VERB\n",
        "    elif tag.startswith('N'):\n",
        "        return wordnet.NOUN\n",
        "    elif tag.startswith('R'):\n",
        "        return wordnet.ADV\n",
        "    else:\n",
        "        return wordnet.NOUN"
      ],
      "execution_count": 52,
      "outputs": []
    },
    {
      "cell_type": "code",
      "metadata": {
        "id": "ZcsNcDYLSkZB"
      },
      "source": [
        "from nltk import pos_tag\n",
        "def lemme(w):\n",
        "    data1=[]\n",
        "    for f in w:\n",
        "        tag=pos_tag([f])[0][1]\n",
        "        data1.append(lemmatizer.lemmatize(f,pos=simplepos(tag)))\n",
        "    return data1"
      ],
      "execution_count": 53,
      "outputs": []
    },
    {
      "cell_type": "code",
      "metadata": {
        "id": "gRXPWfCkOI1o"
      },
      "source": [
        "X_train_token_lemme = [lemme(w) for w in X_train_token]\n",
        "\n",
        "X_test_token_lemme = [lemme(w) for w in X_test_token]"
      ],
      "execution_count": 54,
      "outputs": []
    },
    {
      "cell_type": "code",
      "metadata": {
        "colab": {
          "base_uri": "https://localhost:8080/"
        },
        "id": "BDs5QOohY_xe",
        "outputId": "0e985760-b20a-46ab-ec9e-22369cbccc83"
      },
      "source": [
        "X_train_token_lemme[0:1]"
      ],
      "execution_count": 57,
      "outputs": [
        {
          "output_type": "execute_result",
          "data": {
            "text/plain": [
              "[['heh',\n",
              "  'inconvenience',\n",
              "  'really',\n",
              "  'thanks',\n",
              "  'semi',\n",
              "  'possibly',\n",
              "  'isnt',\n",
              "  'even',\n",
              "  'need',\n",
              "  'half',\n",
              "  'main',\n",
              "  'bone',\n",
              "  'apparent',\n",
              "  'contention',\n",
              "  'afd',\n",
              "  'well',\n",
              "  'seem',\n",
              "  'like',\n",
              "  'good',\n",
              "  'idea',\n",
              "  'thanks',\n",
              "  'help',\n",
              "  '•',\n",
              "  'lawrence',\n",
              "  'cohen']]"
            ]
          },
          "metadata": {
            "tags": []
          },
          "execution_count": 57
        }
      ]
    },
    {
      "cell_type": "code",
      "metadata": {
        "colab": {
          "base_uri": "https://localhost:8080/"
        },
        "id": "0wasCJinH1Rl",
        "outputId": "253a8ea0-07c3-4845-b4cf-f3cbbfe83dcc"
      },
      "source": [
        "X_test_token_lemme[0:1]"
      ],
      "execution_count": 56,
      "outputs": [
        {
          "output_type": "execute_result",
          "data": {
            "text/plain": [
              "[['decline',\n",
              "  'request',\n",
              "  'unprotection',\n",
              "  'dont',\n",
              "  'see',\n",
              "  'evidence',\n",
              "  'apple',\n",
              "  'plan',\n",
              "  'call',\n",
              "  'new',\n",
              "  'product',\n",
              "  'ipad',\n",
              "  'current',\n",
              "  'redirect',\n",
              "  'remain',\n",
              "  'asis',\n",
              "  'opinion',\n",
              "  'prattle']]"
            ]
          },
          "metadata": {
            "tags": []
          },
          "execution_count": 56
        }
      ]
    },
    {
      "cell_type": "code",
      "metadata": {
        "id": "-3Oxav4YcgF8"
      },
      "source": [
        "X_train_processed=[]\n",
        "for i in X_train_token_lemme:\n",
        "   X_train_processed.append(' '.join(i))\n",
        "X_test_processed=[]\n",
        "for i in X_test_token_lemme:\n",
        "   X_test_processed.append(' '.join(i))"
      ],
      "execution_count": 59,
      "outputs": []
    },
    {
      "cell_type": "code",
      "metadata": {
        "colab": {
          "base_uri": "https://localhost:8080/"
        },
        "id": "jgmvwIc7eeEq",
        "outputId": "7abda54d-e5da-4a32-88f9-41c509fbc379"
      },
      "source": [
        "X_train_processed[0:2]"
      ],
      "execution_count": 60,
      "outputs": [
        {
          "output_type": "execute_result",
          "data": {
            "text/plain": [
              "['heh inconvenience really thanks semi possibly isnt even need half main bone apparent contention afd well seem like good idea thanks help • lawrence cohen',\n",
              " 'public image edit addon ive overlook contemporary musician sort article public image article current one bit dumped way doesnt sort musical background actual public image etc make previous edit sort revert wonder would alright add consider part edit version add current public image article thank talk · contribs version revert']"
            ]
          },
          "metadata": {
            "tags": []
          },
          "execution_count": 60
        }
      ]
    },
    {
      "cell_type": "code",
      "metadata": {
        "colab": {
          "base_uri": "https://localhost:8080/"
        },
        "id": "uDlF8sxoNujH",
        "outputId": "257b0ae0-6e09-4e37-aa42-42366db5fad4"
      },
      "source": [
        "X_test_processed[0:2]"
      ],
      "execution_count": 61,
      "outputs": [
        {
          "output_type": "execute_result",
          "data": {
            "text/plain": [
              "['decline request unprotection dont see evidence apple plan call new product ipad current redirect remain asis opinion prattle',\n",
              " 'rename article reorganize subcategories incorporate jesus islam mainstream portrait article title mislead lead u believe article historical historicity jesus fact article historical portrait jesus name secondly subtitle need renamedreorganized material need shift different category entire cultural background subsection christian pov name historical element need largely remove since article portrait subsection category already cover historicity jesus article fact duplicate thirdly perhaps glaringly secular pov article need incorporate islamic portrait jesus isa ibn maryam عيسى portrait need mainstream portrait portrait include article need rename historical christian portrait jesus recommendation would good start establish npov article']"
            ]
          },
          "metadata": {
            "tags": []
          },
          "execution_count": 61
        }
      ]
    },
    {
      "cell_type": "code",
      "metadata": {
        "id": "Ix90pXk1Num4"
      },
      "source": [
        ""
      ],
      "execution_count": null,
      "outputs": []
    },
    {
      "cell_type": "code",
      "metadata": {
        "id": "UfhHJeWoeheU"
      },
      "source": [
        "from sklearn.feature_extraction.text import CountVectorizer\n",
        "v = CountVectorizer(analyzer = \"word\",ngram_range=(2,3), max_features=25000)#bi-gram model\n",
        "X_train_features= v.fit_transform(X_train_processed)\n",
        "X_test_features= v.fit_transform(X_test_processed)"
      ],
      "execution_count": 63,
      "outputs": []
    },
    {
      "cell_type": "code",
      "metadata": {
        "colab": {
          "base_uri": "https://localhost:8080/"
        },
        "id": "EwrAluSPewxU",
        "outputId": "77d0fbb5-6edd-452a-fb23-7fc01d50ce1a"
      },
      "source": [
        "X_train_features"
      ],
      "execution_count": 64,
      "outputs": [
        {
          "output_type": "execute_result",
          "data": {
            "text/plain": [
              "<127656x5000 sparse matrix of type '<class 'numpy.int64'>'\n",
              "\twith 700812 stored elements in Compressed Sparse Row format>"
            ]
          },
          "metadata": {
            "tags": []
          },
          "execution_count": 64
        }
      ]
    },
    {
      "cell_type": "code",
      "metadata": {
        "colab": {
          "base_uri": "https://localhost:8080/"
        },
        "id": "I2grIi0uOkGK",
        "outputId": "692b5e4c-0585-4798-b50f-286c4cbcb2b7"
      },
      "source": [
        "X_test_features"
      ],
      "execution_count": 65,
      "outputs": [
        {
          "output_type": "execute_result",
          "data": {
            "text/plain": [
              "<31915x5000 sparse matrix of type '<class 'numpy.int64'>'\n",
              "\twith 184466 stored elements in Compressed Sparse Row format>"
            ]
          },
          "metadata": {
            "tags": []
          },
          "execution_count": 65
        }
      ]
    },
    {
      "cell_type": "code",
      "metadata": {
        "colab": {
          "base_uri": "https://localhost:8080/"
        },
        "id": "r1D1itMBOlwQ",
        "outputId": "2658f74b-16cf-403a-8e55-b76192341e42"
      },
      "source": [
        "X_train_features.shape"
      ],
      "execution_count": 66,
      "outputs": [
        {
          "output_type": "execute_result",
          "data": {
            "text/plain": [
              "(127656, 5000)"
            ]
          },
          "metadata": {
            "tags": []
          },
          "execution_count": 66
        }
      ]
    },
    {
      "cell_type": "code",
      "metadata": {
        "colab": {
          "base_uri": "https://localhost:8080/"
        },
        "id": "lSMGXOH1On8n",
        "outputId": "a20b2a1d-2863-414a-abc1-bb98cdfe681d"
      },
      "source": [
        "X_test_features.shape"
      ],
      "execution_count": 67,
      "outputs": [
        {
          "output_type": "execute_result",
          "data": {
            "text/plain": [
              "(31915, 5000)"
            ]
          },
          "metadata": {
            "tags": []
          },
          "execution_count": 67
        }
      ]
    },
    {
      "cell_type": "code",
      "metadata": {
        "id": "sf1UV3JSOre3"
      },
      "source": [
        "from sklearn.model_selection import train_test_split\n",
        "from sklearn.linear_model import LogisticRegression\n",
        "from sklearn.multiclass import OneVsRestClassifier\n",
        "import numpy"
      ],
      "execution_count": 70,
      "outputs": []
    },
    {
      "cell_type": "code",
      "metadata": {
        "id": "NELBwWMgPJb7"
      },
      "source": [
        "lr=LogisticRegression()\n",
        "ovr=OneVsRestClassifier(lr)"
      ],
      "execution_count": 72,
      "outputs": []
    },
    {
      "cell_type": "code",
      "metadata": {
        "colab": {
          "base_uri": "https://localhost:8080/"
        },
        "id": "Ua6oEKFwPkeT",
        "outputId": "d5d009ac-1e5f-4430-da6f-707f26d7b19d"
      },
      "source": [
        "ovr.fit(X_train_features,y_train)"
      ],
      "execution_count": 74,
      "outputs": [
        {
          "output_type": "stream",
          "text": [
            "/usr/local/lib/python3.7/dist-packages/sklearn/linear_model/_logistic.py:940: ConvergenceWarning: lbfgs failed to converge (status=1):\n",
            "STOP: TOTAL NO. of ITERATIONS REACHED LIMIT.\n",
            "\n",
            "Increase the number of iterations (max_iter) or scale the data as shown in:\n",
            "    https://scikit-learn.org/stable/modules/preprocessing.html\n",
            "Please also refer to the documentation for alternative solver options:\n",
            "    https://scikit-learn.org/stable/modules/linear_model.html#logistic-regression\n",
            "  extra_warning_msg=_LOGISTIC_SOLVER_CONVERGENCE_MSG)\n",
            "/usr/local/lib/python3.7/dist-packages/sklearn/linear_model/_logistic.py:940: ConvergenceWarning: lbfgs failed to converge (status=1):\n",
            "STOP: TOTAL NO. of ITERATIONS REACHED LIMIT.\n",
            "\n",
            "Increase the number of iterations (max_iter) or scale the data as shown in:\n",
            "    https://scikit-learn.org/stable/modules/preprocessing.html\n",
            "Please also refer to the documentation for alternative solver options:\n",
            "    https://scikit-learn.org/stable/modules/linear_model.html#logistic-regression\n",
            "  extra_warning_msg=_LOGISTIC_SOLVER_CONVERGENCE_MSG)\n",
            "/usr/local/lib/python3.7/dist-packages/sklearn/linear_model/_logistic.py:940: ConvergenceWarning: lbfgs failed to converge (status=1):\n",
            "STOP: TOTAL NO. of ITERATIONS REACHED LIMIT.\n",
            "\n",
            "Increase the number of iterations (max_iter) or scale the data as shown in:\n",
            "    https://scikit-learn.org/stable/modules/preprocessing.html\n",
            "Please also refer to the documentation for alternative solver options:\n",
            "    https://scikit-learn.org/stable/modules/linear_model.html#logistic-regression\n",
            "  extra_warning_msg=_LOGISTIC_SOLVER_CONVERGENCE_MSG)\n",
            "/usr/local/lib/python3.7/dist-packages/sklearn/linear_model/_logistic.py:940: ConvergenceWarning: lbfgs failed to converge (status=1):\n",
            "STOP: TOTAL NO. of ITERATIONS REACHED LIMIT.\n",
            "\n",
            "Increase the number of iterations (max_iter) or scale the data as shown in:\n",
            "    https://scikit-learn.org/stable/modules/preprocessing.html\n",
            "Please also refer to the documentation for alternative solver options:\n",
            "    https://scikit-learn.org/stable/modules/linear_model.html#logistic-regression\n",
            "  extra_warning_msg=_LOGISTIC_SOLVER_CONVERGENCE_MSG)\n",
            "/usr/local/lib/python3.7/dist-packages/sklearn/linear_model/_logistic.py:940: ConvergenceWarning: lbfgs failed to converge (status=1):\n",
            "STOP: TOTAL NO. of ITERATIONS REACHED LIMIT.\n",
            "\n",
            "Increase the number of iterations (max_iter) or scale the data as shown in:\n",
            "    https://scikit-learn.org/stable/modules/preprocessing.html\n",
            "Please also refer to the documentation for alternative solver options:\n",
            "    https://scikit-learn.org/stable/modules/linear_model.html#logistic-regression\n",
            "  extra_warning_msg=_LOGISTIC_SOLVER_CONVERGENCE_MSG)\n",
            "/usr/local/lib/python3.7/dist-packages/sklearn/linear_model/_logistic.py:940: ConvergenceWarning: lbfgs failed to converge (status=1):\n",
            "STOP: TOTAL NO. of ITERATIONS REACHED LIMIT.\n",
            "\n",
            "Increase the number of iterations (max_iter) or scale the data as shown in:\n",
            "    https://scikit-learn.org/stable/modules/preprocessing.html\n",
            "Please also refer to the documentation for alternative solver options:\n",
            "    https://scikit-learn.org/stable/modules/linear_model.html#logistic-regression\n",
            "  extra_warning_msg=_LOGISTIC_SOLVER_CONVERGENCE_MSG)\n"
          ],
          "name": "stderr"
        },
        {
          "output_type": "execute_result",
          "data": {
            "text/plain": [
              "OneVsRestClassifier(estimator=LogisticRegression(C=1.0, class_weight=None,\n",
              "                                                 dual=False, fit_intercept=True,\n",
              "                                                 intercept_scaling=1,\n",
              "                                                 l1_ratio=None, max_iter=100,\n",
              "                                                 multi_class='auto',\n",
              "                                                 n_jobs=None, penalty='l2',\n",
              "                                                 random_state=None,\n",
              "                                                 solver='lbfgs', tol=0.0001,\n",
              "                                                 verbose=0, warm_start=False),\n",
              "                    n_jobs=None)"
            ]
          },
          "metadata": {
            "tags": []
          },
          "execution_count": 74
        }
      ]
    },
    {
      "cell_type": "code",
      "metadata": {
        "id": "xDSdlyoNPv7t"
      },
      "source": [
        "from sklearn.metrics import accuracy_score, confusion_matrix"
      ],
      "execution_count": 75,
      "outputs": []
    },
    {
      "cell_type": "code",
      "metadata": {
        "id": "-lEEzVv_P5F7"
      },
      "source": [
        "accuracy = accuracy_score(ovr.predict(X_train_features),y_train)"
      ],
      "execution_count": 76,
      "outputs": []
    },
    {
      "cell_type": "code",
      "metadata": {
        "colab": {
          "base_uri": "https://localhost:8080/"
        },
        "id": "JVM4xXhfQA1p",
        "outputId": "f2d4e818-c441-4df5-89b7-d142ec923b11"
      },
      "source": [
        "accuracy"
      ],
      "execution_count": 77,
      "outputs": [
        {
          "output_type": "execute_result",
          "data": {
            "text/plain": [
              "0.9039371435733534"
            ]
          },
          "metadata": {
            "tags": []
          },
          "execution_count": 77
        }
      ]
    },
    {
      "cell_type": "code",
      "metadata": {
        "colab": {
          "base_uri": "https://localhost:8080/"
        },
        "id": "d7dJ7gU9QCFc",
        "outputId": "4d2a8139-96cf-4c92-af1a-9d139fdaf2c0"
      },
      "source": [
        "test_pred = ovr.predict(X_test_features)\n",
        "#test_pred = le.inverse_transform(test_pred)\n",
        "test_pred\n",
        "#np.savetxt(\"test_pred.csv\",test_pred,fmt='%s')"
      ],
      "execution_count": 80,
      "outputs": [
        {
          "output_type": "execute_result",
          "data": {
            "text/plain": [
              "array([[0, 0, 0, 0, 0, 0],\n",
              "       [0, 0, 0, 0, 0, 0],\n",
              "       [0, 0, 0, 0, 0, 0],\n",
              "       ...,\n",
              "       [0, 0, 0, 0, 0, 0],\n",
              "       [0, 0, 0, 0, 0, 0],\n",
              "       [0, 0, 0, 0, 0, 0]])"
            ]
          },
          "metadata": {
            "tags": []
          },
          "execution_count": 80
        }
      ]
    },
    {
      "cell_type": "code",
      "metadata": {
        "colab": {
          "base_uri": "https://localhost:8080/"
        },
        "id": "cvspN7PWQUHN",
        "outputId": "9104bcc5-9327-4288-fda7-a83da2ef994f"
      },
      "source": [
        "test_pred.shape"
      ],
      "execution_count": 81,
      "outputs": [
        {
          "output_type": "execute_result",
          "data": {
            "text/plain": [
              "(31915, 6)"
            ]
          },
          "metadata": {
            "tags": []
          },
          "execution_count": 81
        }
      ]
    },
    {
      "cell_type": "code",
      "metadata": {
        "colab": {
          "base_uri": "https://localhost:8080/",
          "height": 419
        },
        "id": "66TTvsFoQduo",
        "outputId": "f2897dff-ef09-4180-c64f-72e3bb9afb40"
      },
      "source": [
        "y_test"
      ],
      "execution_count": 83,
      "outputs": [
        {
          "output_type": "execute_result",
          "data": {
            "text/html": [
              "<div>\n",
              "<style scoped>\n",
              "    .dataframe tbody tr th:only-of-type {\n",
              "        vertical-align: middle;\n",
              "    }\n",
              "\n",
              "    .dataframe tbody tr th {\n",
              "        vertical-align: top;\n",
              "    }\n",
              "\n",
              "    .dataframe thead th {\n",
              "        text-align: right;\n",
              "    }\n",
              "</style>\n",
              "<table border=\"1\" class=\"dataframe\">\n",
              "  <thead>\n",
              "    <tr style=\"text-align: right;\">\n",
              "      <th></th>\n",
              "      <th>toxic</th>\n",
              "      <th>severe_toxic</th>\n",
              "      <th>obscene</th>\n",
              "      <th>threat</th>\n",
              "      <th>insult</th>\n",
              "      <th>identity_hate</th>\n",
              "    </tr>\n",
              "  </thead>\n",
              "  <tbody>\n",
              "    <tr>\n",
              "      <th>69811</th>\n",
              "      <td>0</td>\n",
              "      <td>0</td>\n",
              "      <td>0</td>\n",
              "      <td>0</td>\n",
              "      <td>0</td>\n",
              "      <td>0</td>\n",
              "    </tr>\n",
              "    <tr>\n",
              "      <th>147993</th>\n",
              "      <td>0</td>\n",
              "      <td>0</td>\n",
              "      <td>0</td>\n",
              "      <td>0</td>\n",
              "      <td>0</td>\n",
              "      <td>0</td>\n",
              "    </tr>\n",
              "    <tr>\n",
              "      <th>135194</th>\n",
              "      <td>0</td>\n",
              "      <td>0</td>\n",
              "      <td>0</td>\n",
              "      <td>0</td>\n",
              "      <td>0</td>\n",
              "      <td>0</td>\n",
              "    </tr>\n",
              "    <tr>\n",
              "      <th>110065</th>\n",
              "      <td>0</td>\n",
              "      <td>0</td>\n",
              "      <td>0</td>\n",
              "      <td>0</td>\n",
              "      <td>0</td>\n",
              "      <td>0</td>\n",
              "    </tr>\n",
              "    <tr>\n",
              "      <th>39054</th>\n",
              "      <td>0</td>\n",
              "      <td>0</td>\n",
              "      <td>0</td>\n",
              "      <td>0</td>\n",
              "      <td>0</td>\n",
              "      <td>0</td>\n",
              "    </tr>\n",
              "    <tr>\n",
              "      <th>...</th>\n",
              "      <td>...</td>\n",
              "      <td>...</td>\n",
              "      <td>...</td>\n",
              "      <td>...</td>\n",
              "      <td>...</td>\n",
              "      <td>...</td>\n",
              "    </tr>\n",
              "    <tr>\n",
              "      <th>72570</th>\n",
              "      <td>0</td>\n",
              "      <td>0</td>\n",
              "      <td>0</td>\n",
              "      <td>0</td>\n",
              "      <td>0</td>\n",
              "      <td>0</td>\n",
              "    </tr>\n",
              "    <tr>\n",
              "      <th>123312</th>\n",
              "      <td>0</td>\n",
              "      <td>0</td>\n",
              "      <td>0</td>\n",
              "      <td>0</td>\n",
              "      <td>0</td>\n",
              "      <td>0</td>\n",
              "    </tr>\n",
              "    <tr>\n",
              "      <th>32264</th>\n",
              "      <td>1</td>\n",
              "      <td>0</td>\n",
              "      <td>1</td>\n",
              "      <td>0</td>\n",
              "      <td>0</td>\n",
              "      <td>0</td>\n",
              "    </tr>\n",
              "    <tr>\n",
              "      <th>20883</th>\n",
              "      <td>0</td>\n",
              "      <td>0</td>\n",
              "      <td>0</td>\n",
              "      <td>0</td>\n",
              "      <td>0</td>\n",
              "      <td>0</td>\n",
              "    </tr>\n",
              "    <tr>\n",
              "      <th>123301</th>\n",
              "      <td>0</td>\n",
              "      <td>0</td>\n",
              "      <td>0</td>\n",
              "      <td>0</td>\n",
              "      <td>0</td>\n",
              "      <td>0</td>\n",
              "    </tr>\n",
              "  </tbody>\n",
              "</table>\n",
              "<p>31915 rows × 6 columns</p>\n",
              "</div>"
            ],
            "text/plain": [
              "        toxic  severe_toxic  obscene  threat  insult  identity_hate\n",
              "69811       0             0        0       0       0              0\n",
              "147993      0             0        0       0       0              0\n",
              "135194      0             0        0       0       0              0\n",
              "110065      0             0        0       0       0              0\n",
              "39054       0             0        0       0       0              0\n",
              "...       ...           ...      ...     ...     ...            ...\n",
              "72570       0             0        0       0       0              0\n",
              "123312      0             0        0       0       0              0\n",
              "32264       1             0        1       0       0              0\n",
              "20883       0             0        0       0       0              0\n",
              "123301      0             0        0       0       0              0\n",
              "\n",
              "[31915 rows x 6 columns]"
            ]
          },
          "metadata": {
            "tags": []
          },
          "execution_count": 83
        }
      ]
    },
    {
      "cell_type": "code",
      "metadata": {
        "id": "8lxlEZ8OQ9C7"
      },
      "source": [
        "\n",
        "from sklearn.metrics import classification_report\n",
        "import seaborn as sns"
      ],
      "execution_count": 107,
      "outputs": []
    },
    {
      "cell_type": "code",
      "metadata": {
        "colab": {
          "base_uri": "https://localhost:8080/",
          "height": 174
        },
        "id": "pUuc-jF5Y5Qd",
        "outputId": "534d10cf-2dd8-4773-fd05-a9d291817115"
      },
      "source": [
        "classification_report(y_test, test_pred)"
      ],
      "execution_count": 108,
      "outputs": [
        {
          "output_type": "stream",
          "text": [
            "/usr/local/lib/python3.7/dist-packages/sklearn/metrics/_classification.py:1272: UndefinedMetricWarning: Precision and F-score are ill-defined and being set to 0.0 in samples with no predicted labels. Use `zero_division` parameter to control this behavior.\n",
            "  _warn_prf(average, modifier, msg_start, len(result))\n",
            "/usr/local/lib/python3.7/dist-packages/sklearn/metrics/_classification.py:1272: UndefinedMetricWarning: Recall and F-score are ill-defined and being set to 0.0 in samples with no true labels. Use `zero_division` parameter to control this behavior.\n",
            "  _warn_prf(average, modifier, msg_start, len(result))\n"
          ],
          "name": "stderr"
        },
        {
          "output_type": "execute_result",
          "data": {
            "application/vnd.google.colaboratory.intrinsic+json": {
              "type": "string"
            },
            "text/plain": [
              "'              precision    recall  f1-score   support\\n\\n           0       0.30      0.05      0.08      3116\\n           1       0.38      0.03      0.06       313\\n           2       0.23      0.04      0.07      1683\\n           3       0.00      0.00      0.00       113\\n           4       0.23      0.02      0.04      1636\\n           5       0.11      0.01      0.01       295\\n\\n   micro avg       0.26      0.04      0.06      7156\\n   macro avg       0.21      0.02      0.04      7156\\nweighted avg       0.26      0.04      0.06      7156\\n samples avg       0.00      0.00      0.00      7156\\n'"
            ]
          },
          "metadata": {
            "tags": []
          },
          "execution_count": 108
        }
      ]
    },
    {
      "cell_type": "code",
      "metadata": {
        "colab": {
          "base_uri": "https://localhost:8080/",
          "height": 295
        },
        "id": "Quqw4cxFZf4T",
        "outputId": "0a1c2803-c18d-4b8a-c63b-d2a59fc14683"
      },
      "source": [
        "cf_mat=confusion_matrix(y_test.values.argmax(axis=1),test_pred.argmax(axis=1))\n",
        "sns.heatmap(cf_mat, annot=True,cmap=\"Reds\")\n",
        "plt.title(\"Logistic Reg Confusion Matrix\")\n",
        "plt.xlabel(\"Actual Labels\")\n",
        "plt.ylabel(\"Predicted Labels\")\n",
        "plt.show()"
      ],
      "execution_count": 116,
      "outputs": [
        {
          "output_type": "display_data",
          "data": {
            "image/png": "[encoded data removed]",
            "text/plain": [
              "<Figure size 432x288 with 2 Axes>"
            ]
          },
          "metadata": {
            "tags": [],
            "needs_background": "light"
          }
        }
      ]
    },
    {
      "cell_type": "code",
      "metadata": {
        "colab": {
          "base_uri": "https://localhost:8080/"
        },
        "id": "f-S4J74EXAnF",
        "outputId": "2a964566-d99a-459a-894e-d10bddde0594"
      },
      "source": [
        "accuracy_lr=accuracy_score(y_test,test_pred)\n",
        "accuracy_lr"
      ],
      "execution_count": 125,
      "outputs": [
        {
          "output_type": "execute_result",
          "data": {
            "text/plain": [
              "0.886041046529845"
            ]
          },
          "metadata": {
            "tags": []
          },
          "execution_count": 125
        }
      ]
    },
    {
      "cell_type": "code",
      "metadata": {
        "colab": {
          "base_uri": "https://localhost:8080/",
          "height": 358
        },
        "id": "0pFYvXChiVlP",
        "outputId": "437220e0-fb8f-464d-92a9-d6567acf0da7"
      },
      "source": [
        "!wget -nc https://raw.githubusercontent.com/brpy/colab-pdf/master/colab_pdf.py\n",
        "from colab_pdf import colab_pdf\n",
        "colab_pdf('NLP_Toxic_collab.ipynb')"
      ],
      "execution_count": 127,
      "outputs": [
        {
          "output_type": "stream",
          "text": [
            "File ‘colab_pdf.py’ already there; not retrieving.\n",
            "\n",
            "\n",
            "WARNING: apt does not have a stable CLI interface. Use with caution in scripts.\n",
            "\n",
            "\n",
            "WARNING: apt does not have a stable CLI interface. Use with caution in scripts.\n",
            "\n",
            "Extracting templates from packages: 100%\n",
            "[NbConvertApp] Converting notebook /content/drive/My Drive/Colab Notebooks/NLP_Toxic_collab.ipynb to pdf\n",
            "[NbConvertApp] Support files will be in NLP_Toxic_collab_files/\n",
            "[NbConvertApp] Making directory ./NLP_Toxic_collab_files\n",
            "[NbConvertApp] Writing 78750 bytes to ./notebook.tex\n",
            "[NbConvertApp] Building PDF\n",
            "[NbConvertApp] Running xelatex 3 times: [u'xelatex', u'./notebook.tex', '-quiet']\n",
            "[NbConvertApp] Running bibtex 1 time: [u'bibtex', u'./notebook']\n",
            "[NbConvertApp] WARNING | bibtex had problems, most likely because there were no citations\n",
            "[NbConvertApp] PDF successfully created\n",
            "[NbConvertApp] Writing 72535 bytes to /content/drive/My Drive/NLP_Toxic_collab.pdf\n"
          ],
          "name": "stdout"
        },
        {
          "output_type": "display_data",
          "data": {
            "application/javascript": [
              "\n",
              "    async function download(id, filename, size) {\n",
              "      if (!google.colab.kernel.accessAllowed) {\n",
              "        return;\n",
              "      }\n",
              "      const div = document.createElement('div');\n",
              "      const label = document.createElement('label');\n",
              "      label.textContent = `Downloading \"${filename}\": `;\n",
              "      div.appendChild(label);\n",
              "      const progress = document.createElement('progress');\n",
              "      progress.max = size;\n",
              "      div.appendChild(progress);\n",
              "      document.body.appendChild(div);\n",
              "\n",
              "      const buffers = [];\n",
              "      let downloaded = 0;\n",
              "\n",
              "      const channel = await google.colab.kernel.comms.open(id);\n",
              "      // Send a message to notify the kernel that we're ready.\n",
              "      channel.send({})\n",
              "\n",
              "      for await (const message of channel.messages) {\n",
              "        // Send a message to notify the kernel that we're ready.\n",
              "        channel.send({})\n",
              "        if (message.buffers) {\n",
              "          for (const buffer of message.buffers) {\n",
              "            buffers.push(buffer);\n",
              "            downloaded += buffer.byteLength;\n",
              "            progress.value = downloaded;\n",
              "          }\n",
              "        }\n",
              "      }\n",
              "      const blob = new Blob(buffers, {type: 'application/binary'});\n",
              "      const a = document.createElement('a');\n",
              "      a.href = window.URL.createObjectURL(blob);\n",
              "      a.download = filename;\n",
              "      div.appendChild(a);\n",
              "      a.click();\n",
              "      div.remove();\n",
              "    }\n",
              "  "
            ],
            "text/plain": [
              "<IPython.core.display.Javascript object>"
            ]
          },
          "metadata": {
            "tags": []
          }
        },
        {
          "output_type": "display_data",
          "data": {
            "application/javascript": [
              "download(\"download_dfaa2195-53fe-4bad-a482-d066040adc7e\", \"NLP_Toxic_collab.pdf\", 72535)"
            ],
            "text/plain": [
              "<IPython.core.display.Javascript object>"
            ]
          },
          "metadata": {
            "tags": []
          }
        },
        {
          "output_type": "execute_result",
          "data": {
            "application/vnd.google.colaboratory.intrinsic+json": {
              "type": "string"
            },
            "text/plain": [
              "'File ready to be Downloaded and Saved to Drive'"
            ]
          },
          "metadata": {
            "tags": []
          },
          "execution_count": 127
        }
      ]
    },
    {
      "cell_type": "code",
      "metadata": {
        "id": "L5CKejA7jNF7"
      },
      "source": [
        ""
      ],
      "execution_count": null,
      "outputs": []
    }
  ]
}